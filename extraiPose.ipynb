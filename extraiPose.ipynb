{
 "metadata": {
  "language_info": {
   "codemirror_mode": {
    "name": "ipython",
    "version": 3
   },
   "file_extension": ".py",
   "mimetype": "text/x-python",
   "name": "python",
   "nbconvert_exporter": "python",
   "pygments_lexer": "ipython3",
   "version": "2.7.17-final"
  },
  "orig_nbformat": 2,
  "kernelspec": {
   "name": "python2",
   "display_name": "Python 2"
  }
 },
 "nbformat": 4,
 "nbformat_minor": 2,
 "cells": [
  {
   "cell_type": "code",
   "execution_count": 1,
   "metadata": {},
   "outputs": [],
   "source": [
    "import rosbag"
   ]
  },
  {
   "cell_type": "code",
   "execution_count": 2,
   "metadata": {},
   "outputs": [],
   "source": [
    "bag = rosbag.Bag(\"Sensor/sensor1.bag\")"
   ]
  },
  {
   "cell_type": "code",
   "execution_count": 45,
   "metadata": {},
   "outputs": [],
   "source": [
    "stateIterator = bag.read_messages(topics=\"/uav1/odometry/uav_state\")\n",
    "imgIterator = bag.read_messages(topics=\"/uav1/bluefox_optflow/image_raw\")"
   ]
  },
  {
   "cell_type": "code",
   "execution_count": 57,
   "metadata": {},
   "outputs": [],
   "source": [
    "msg = a.next()"
   ]
  },
  {
   "cell_type": "code",
   "execution_count": 72,
   "metadata": {},
   "outputs": [
    {
     "output_type": "execute_result",
     "data": {
      "text/plain": [
       "-0.011437488675348877"
      ]
     },
     "metadata": {},
     "execution_count": 72
    }
   ],
   "source": [
    "msg.message.pose.orientation.x"
   ]
  },
  {
   "source": [
    "time2 = msg.timestamp"
   ],
   "cell_type": "code",
   "metadata": {},
   "execution_count": 58,
   "outputs": []
  },
  {
   "cell_type": "code",
   "execution_count": 31,
   "metadata": {},
   "outputs": [],
   "source": [
    "msg2 = imgIterator.next()"
   ]
  },
  {
   "cell_type": "code",
   "execution_count": 39,
   "metadata": {},
   "outputs": [
    {
     "output_type": "execute_result",
     "data": {
      "text/plain": [
       "652000000"
      ]
     },
     "metadata": {},
     "execution_count": 39
    }
   ],
   "source": [
    "msg2.timestamp.nsecsmessage.pos"
   ]
  },
  {
   "cell_type": "code",
   "execution_count": 40,
   "metadata": {},
   "outputs": [
    {
     "output_type": "execute_result",
     "data": {
      "text/plain": [
       "generator"
      ]
     },
     "metadata": {},
     "execution_count": 40
    }
   ],
   "source": [
    "type(imgIterator)"
   ]
  },
  {
   "cell_type": "code",
   "execution_count": 44,
   "metadata": {},
   "outputs": [
    {
     "output_type": "stream",
     "name": "stdout",
     "text": [
      "465\n465\n465\n466\n466\n466\n466\n466\n467\n467\n467\n467\n467\n468\n468\n468\n468\n468\n469\n469\n469\n469\n469\n470\n470\n470\n470\n470\n470\n471\n471\n471\n471\n471\n472\n472\n472\n472\n472\n473\n473\n473\n473\n473\n474\n474\n474\n474\n474\n475\n475\n475\n475\n475\n475\n476\n476\n476\n476\n476\n477\n477\n477\n477\n477\n477\n478\n478\n478\n478\n478\n478\n479\n479\n479\n479\n479\n480\n480\n480\n480\n480\n480\n481\n481\n481\n481\n481\n482\n482\n482\n482\n482\n482\n483\n483\n483\n"
     ]
    },
    {
     "output_type": "error",
     "ename": "StopIteration",
     "evalue": "",
     "traceback": [
      "\u001b[0;31m---------------------------------------------------------------------------\u001b[0m",
      "\u001b[0;31mStopIteration\u001b[0m                             Traceback (most recent call last)",
      "\u001b[0;32m<ipython-input-44-160a0596d5ff>\u001b[0m in \u001b[0;36m<module>\u001b[0;34m()\u001b[0m\n\u001b[1;32m      3\u001b[0m \u001b[0;32mwhile\u001b[0m\u001b[0;34m(\u001b[0m\u001b[0mmsg\u001b[0m \u001b[0;32mis\u001b[0m \u001b[0;32mnot\u001b[0m \u001b[0mNone\u001b[0m\u001b[0;34m)\u001b[0m\u001b[0;34m:\u001b[0m\u001b[0;34m\u001b[0m\u001b[0m\n\u001b[1;32m      4\u001b[0m     \u001b[0;32mprint\u001b[0m\u001b[0;34m(\u001b[0m\u001b[0mmsg\u001b[0m\u001b[0;34m.\u001b[0m\u001b[0mtimestamp\u001b[0m\u001b[0;34m.\u001b[0m\u001b[0msecs\u001b[0m\u001b[0;34m)\u001b[0m\u001b[0;34m\u001b[0m\u001b[0m\n\u001b[0;32m----> 5\u001b[0;31m     \u001b[0mmsg\u001b[0m \u001b[0;34m=\u001b[0m \u001b[0mimgIterator\u001b[0m\u001b[0;34m.\u001b[0m\u001b[0mnext\u001b[0m\u001b[0;34m(\u001b[0m\u001b[0;34m)\u001b[0m\u001b[0;34m\u001b[0m\u001b[0m\n\u001b[0m",
      "\u001b[0;31mStopIteration\u001b[0m: "
     ]
    }
   ],
   "source": [
    "\n",
    "msg = imgIterator.next()\n",
    "while(msg is not None):\n",
    "    print(msg.timestamp.secs)\n",
    "    msg = imgIterator.next()"
   ]
  },
  {
   "cell_type": "code",
   "execution_count": 66,
   "metadata": {},
   "outputs": [
    {
     "output_type": "execute_result",
     "data": {
      "text/plain": [
       "False"
      ]
     },
     "metadata": {},
     "execution_count": 66
    }
   ],
   "source": [
    "(time2 - time).is_zero()"
   ]
  },
  {
   "cell_type": "code",
   "execution_count": 65,
   "metadata": {},
   "outputs": [
    {
     "output_type": "execute_result",
     "data": {
      "text/plain": [
       "True"
      ]
     },
     "metadata": {},
     "execution_count": 65
    }
   ],
   "source": [
    "a = (time - time)\n",
    "a.is_zero()"
   ]
  },
  {
   "cell_type": "code",
   "execution_count": 89,
   "metadata": {},
   "outputs": [],
   "source": [
    "folder = \"Mostrador1/\"\n",
    "bagName = \"2020-11-06-19-41-18.bag\""
   ]
  },
  {
   "cell_type": "code",
   "execution_count": 91,
   "metadata": {
    "tags": []
   },
   "outputs": [],
   "source": [
    "import rosbag\n",
    "import numpy as np\n",
    "import csv\n",
    "\n",
    "bag = rosbag.Bag(folder+bagName)\n",
    "\n",
    "poses = []\n",
    "\n",
    "stateIterator = bag.read_messages(topics=\"/uav1/odometry/uav_state\")\n",
    "imgIterator = bag.read_messages(topics=\"/uav1/bluefox_optflow/image_raw\")\n",
    "\n",
    "msgImg = imgIterator.next()\n",
    "\n",
    "try:\n",
    "    while(msgImg is not None):\n",
    "\n",
    "        msgState = stateIterator.next()\n",
    "\n",
    "        while(msgState is not None):\n",
    "\n",
    "            if (msgState.timestamp - msgImg.timestamp).nsecs <= 300000000:\n",
    "                position = [0.0, 0.0, 0.0]\n",
    "                orientation = [0.0, 0.0, 0.0, 0.0]\n",
    "\n",
    "                position[0] = msgState.message.pose.position.x\n",
    "                position[1] = msgState.message.pose.position.y\n",
    "                position[2] = msgState.message.pose.position.z\n",
    "\n",
    "                orientation[0] = msgState.message.pose.orientation.x\n",
    "                orientation[1] = msgState.message.pose.orientation.y\n",
    "                orientation[2] = msgState.message.pose.orientation.z\n",
    "                orientation[3] = msgState.message.pose.orientation.w\n",
    "\n",
    "                poses.append([position, orientation])\n",
    "\n",
    "                break\n",
    "\n",
    "            msgState = stateIterator.next()\n",
    "\n",
    "        msgImg = imgIterator.next()\n",
    "\n",
    "except:\n",
    "    pass\n"
   ]
  },
  {
   "cell_type": "code",
   "execution_count": 119,
   "metadata": {},
   "outputs": [],
   "source": [
    "def geraLinha(pose):\n",
    "    linha = []\n",
    "\n",
    "    for i in range(3):\n",
    "        linha.append(pose[0][i])\n",
    "\n",
    "    for i in range(4):\n",
    "        linha.append(pose[1][i])\n",
    "\n",
    "    return linha\n",
    "\n",
    "with open(folder+\"poses.csv\", 'w') as arq:\n",
    "    writer = csv.writer(arq, delimiter=',')\n",
    "\n",
    "    for pose in poses:\n",
    "        linha = geraLinha(pose)\n",
    "        writer.writerow(linha)"
   ]
  },
  {
   "cell_type": "code",
   "execution_count": 122,
   "metadata": {},
   "outputs": [],
   "source": [
    "posesLido = []\n",
    "\n",
    "with open(folder+\"poses.csv\", 'r') as arq:\n",
    "    reader = csv.reader(arq, delimiter=',')\n",
    "\n",
    "    arq.seek(0)\n",
    "\n",
    "    for row in reader:\n",
    "        posesLido.append(row)"
   ]
  },
  {
   "cell_type": "code",
   "execution_count": 126,
   "metadata": {},
   "outputs": [
    {
     "output_type": "execute_result",
     "data": {
      "text/plain": [
       "'0.9996714683957145'"
      ]
     },
     "metadata": {},
     "execution_count": 126
    }
   ],
   "source": [
    "posesLido[0][6]"
   ]
  },
  {
   "cell_type": "code",
   "execution_count": 103,
   "metadata": {},
   "outputs": [],
   "source": [
    "\n"
   ]
  },
  {
   "cell_type": "code",
   "execution_count": 106,
   "metadata": {},
   "outputs": [
    {
     "output_type": "execute_result",
     "data": {
      "text/plain": [
       "2.2580828193634455"
      ]
     },
     "metadata": {},
     "execution_count": 106
    }
   ],
   "source": []
  },
  {
   "cell_type": "code",
   "execution_count": 108,
   "metadata": {},
   "outputs": [
    {
     "output_type": "execute_result",
     "data": {
      "text/plain": [
       "[2.2580828193634455, 0.21900515317147445, 1.0126207633405775]"
      ]
     },
     "metadata": {},
     "execution_count": 108
    }
   ],
   "source": []
  },
  {
   "cell_type": "code",
   "execution_count": null,
   "metadata": {},
   "outputs": [],
   "source": []
  }
 ]
}